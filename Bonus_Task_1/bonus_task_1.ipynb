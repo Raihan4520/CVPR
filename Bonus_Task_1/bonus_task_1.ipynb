{
 "cells": [
  {
   "cell_type": "code",
   "execution_count": 1,
   "id": "0f0ce764",
   "metadata": {},
   "outputs": [
    {
     "data": {
      "text/html": [
       "<div>\n",
       "<style scoped>\n",
       "    .dataframe tbody tr th:only-of-type {\n",
       "        vertical-align: middle;\n",
       "    }\n",
       "\n",
       "    .dataframe tbody tr th {\n",
       "        vertical-align: top;\n",
       "    }\n",
       "\n",
       "    .dataframe thead th {\n",
       "        text-align: right;\n",
       "    }\n",
       "</style>\n",
       "<table border=\"1\" class=\"dataframe\">\n",
       "  <thead>\n",
       "    <tr style=\"text-align: right;\">\n",
       "      <th></th>\n",
       "      <th>X1</th>\n",
       "      <th>X2</th>\n",
       "      <th>Y</th>\n",
       "    </tr>\n",
       "  </thead>\n",
       "  <tbody>\n",
       "    <tr>\n",
       "      <th>0</th>\n",
       "      <td>25</td>\n",
       "      <td>6</td>\n",
       "      <td>0</td>\n",
       "    </tr>\n",
       "    <tr>\n",
       "      <th>1</th>\n",
       "      <td>69</td>\n",
       "      <td>37</td>\n",
       "      <td>1</td>\n",
       "    </tr>\n",
       "    <tr>\n",
       "      <th>2</th>\n",
       "      <td>41</td>\n",
       "      <td>22</td>\n",
       "      <td>0</td>\n",
       "    </tr>\n",
       "    <tr>\n",
       "      <th>3</th>\n",
       "      <td>68</td>\n",
       "      <td>69</td>\n",
       "      <td>0</td>\n",
       "    </tr>\n",
       "    <tr>\n",
       "      <th>4</th>\n",
       "      <td>79</td>\n",
       "      <td>54</td>\n",
       "      <td>1</td>\n",
       "    </tr>\n",
       "  </tbody>\n",
       "</table>\n",
       "</div>"
      ],
      "text/plain": [
       "   X1  X2  Y\n",
       "0  25   6  0\n",
       "1  69  37  1\n",
       "2  41  22  0\n",
       "3  68  69  0\n",
       "4  79  54  1"
      ]
     },
     "execution_count": 1,
     "metadata": {},
     "output_type": "execute_result"
    }
   ],
   "source": [
    "import pandas as pd\n",
    "import matplotlib.pyplot as plt\n",
    "import numpy as np\n",
    "import random\n",
    "import math\n",
    "from IPython import display\n",
    "\n",
    "np.random.seed(0)\n",
    "\n",
    "df = pd.read_csv('/Users/macbook/Downloads/Dataset3.csv')\n",
    "df.head()"
   ]
  },
  {
   "cell_type": "code",
   "execution_count": 2,
   "id": "4bdd6cd8",
   "metadata": {},
   "outputs": [
    {
     "data": {
      "image/png": "[encoded data removed]",
      "text/plain": [
       "<Figure size 432x288 with 1 Axes>"
      ]
     },
     "metadata": {
      "needs_background": "light"
     },
     "output_type": "display_data"
    }
   ],
   "source": [
    "X1 = df[\"X1\"].values.tolist()\n",
    "X2 = df[\"X2\"].values.tolist()\n",
    "X3 = df[\"Y\"].values.tolist()\n",
    "\n",
    "for i in range(len(X3)):\n",
    "    if X3[i] == 0:\n",
    "        plt.plot(X1[i], X2[i], \"ro\")\n",
    "    else:\n",
    "        plt.plot(X1[i], X2[i], \"bo\")"
   ]
  },
  {
   "cell_type": "code",
   "execution_count": 3,
   "id": "c791df62",
   "metadata": {},
   "outputs": [],
   "source": [
    "X = np.zeros(shape=(len(X1),2))\n",
    "Y = np.zeros(shape=(len(X1),1))\n",
    "\n",
    "for i in range(len(X1)): \n",
    "    X[i] = [X1[i],X2[i]]\n",
    "    Y[i] = [X3[i]]\n",
    "#X\n",
    "#Y"
   ]
  },
  {
   "cell_type": "code",
   "execution_count": 4,
   "id": "afe6eb90",
   "metadata": {},
   "outputs": [],
   "source": [
    "class NeuralNetwork(object):\n",
    "    def __init__(self):\n",
    "        inputLayerNeurons = 2\n",
    "        hiddenLayerNeurons = 100\n",
    "        outLayerNeurons = 1\n",
    "        \n",
    "        self.learning_rate = 0.01\n",
    "        self.W_HI = np.random.randn(inputLayerNeurons, hiddenLayerNeurons)\n",
    "        self.W_OH = np.random.randn(hiddenLayerNeurons, outLayerNeurons)\n",
    "        \n",
    "    def sigmoid(self, x, der=False):\n",
    "        if der == True:\n",
    "            return x * (1-x)\n",
    "        else:\n",
    "            return 1 / (1 + np.exp(-x))\n",
    "        \n",
    "    def feedForward(self, X):\n",
    "        hidden_input = np.dot(X, self.W_HI)\n",
    "        self.hidden_output = self.sigmoid(hidden_input)\n",
    "        \n",
    "        output_input = np.dot(self.hidden_output, self.W_OH)\n",
    "        pred = self.sigmoid(output_input)\n",
    "        return pred\n",
    "        \n",
    "    def backPropagation(self, X, Y, pred):\n",
    "        output_error = Y - pred\n",
    "        output_delta = self.learning_rate * output_error * self.sigmoid(pred, der=True)\n",
    "        \n",
    "        hidden_error = output_delta.dot(self.W_OH.T)\n",
    "        hidden_delta = self.learning_rate * hidden_error * self.sigmoid(self.hidden_output, der=True)\n",
    "        \n",
    "        self.W_HI += X.T.dot(hidden_delta)\n",
    "        self.W_OH += self.hidden_output.T.dot(output_delta)\n",
    "        \n",
    "    def train(self, X, Y):\n",
    "        output = self.feedForward(X)\n",
    "        self.backPropagation(X,Y,output)"
   ]
  },
  {
   "cell_type": "code",
   "execution_count": 5,
   "id": "c4b9c25f",
   "metadata": {},
   "outputs": [
    {
     "data": {
      "text/plain": [
       "[<matplotlib.lines.Line2D at 0x7fd905b03ac0>]"
      ]
     },
     "execution_count": 5,
     "metadata": {},
     "output_type": "execute_result"
    },
    {
     "data": {
      "image/png": "[encoded data removed]",
      "text/plain": [
       "<Figure size 432x288 with 1 Axes>"
      ]
     },
     "metadata": {
      "needs_background": "light"
     },
     "output_type": "display_data"
    }
   ],
   "source": [
    "NN = NeuralNetwork()\n",
    "\n",
    "err = []\n",
    "for i in range(10000):\n",
    "    NN.train(X,Y)\n",
    "    err.append(np.mean(np.square(Y - NN.feedForward(X))))\n",
    "\n",
    "plt.plot(err)"
   ]
  }
 ],
 "metadata": {
  "kernelspec": {
   "display_name": "Python 3 (ipykernel)",
   "language": "python",
   "name": "python3"
  },
  "language_info": {
   "codemirror_mode": {
    "name": "ipython",
    "version": 3
   },
   "file_extension": ".py",
   "mimetype": "text/x-python",
   "name": "python",
   "nbconvert_exporter": "python",
   "pygments_lexer": "ipython3",
   "version": "3.8.8"
  }
 },
 "nbformat": 4,
 "nbformat_minor": 5
}
