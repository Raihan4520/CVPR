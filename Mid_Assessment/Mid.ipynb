{
 "cells": [
  {
   "cell_type": "markdown",
   "id": "99073692",
   "metadata": {
    "id": "99073692"
   },
   "source": [
    "# Importing Libraries and Defining Funcations"
   ]
  },
  {
   "cell_type": "code",
   "execution_count": 1,
   "id": "80a86fc2",
   "metadata": {
    "id": "80a86fc2"
   },
   "outputs": [],
   "source": [
    "import os\n",
    "import cv2\n",
    "import glob\n",
    "import numpy as np\n",
    "import matplotlib.pyplot as plt\n",
    "\n",
    "def get_manhattan_distance(p1, p2):\n",
    "    manhattan_dist = 0\n",
    "    for i in range(len(p1)):\n",
    "        manhattan_dist += abs(int(p1[i]) - int(p2[i]))\n",
    "    return manhattan_dist\n",
    "\n",
    "def get_euclidean_distance(p1, p2):\n",
    "    euclidean_dist = 0\n",
    "    for i in range(len(p1)):\n",
    "        euclidean_dist += (int(p1[i]) - int(p2[i]))**2\n",
    "    return np.sqrt(euclidean_dist)"
   ]
  },
  {
   "cell_type": "markdown",
   "id": "753cd0f6",
   "metadata": {
    "id": "753cd0f6"
   },
   "source": [
    "# Reading Train and Test Data"
   ]
  },
  {
   "cell_type": "code",
   "execution_count": 2,
   "id": "5af4c214",
   "metadata": {
    "colab": {
     "base_uri": "https://localhost:8080/"
    },
    "id": "5af4c214",
    "outputId": "fadd1cdf-2a03-4907-aea2-846da828d97d"
   },
   "outputs": [
    {
     "name": "stdout",
     "output_type": "stream",
     "text": [
      "Categories: ['cat', 'dog', 'truck', 'bird', 'airplane', 'ship', 'frog', 'horse', 'deer', 'automobile']\n",
      "Reading category: 1\n",
      "Reading category: 2\n",
      "Reading category: 3\n",
      "Reading category: 4\n",
      "Reading category: 5\n",
      "Reading category: 6\n",
      "Reading category: 7\n",
      "Reading category: 8\n",
      "Reading category: 9\n",
      "Reading category: 10\n",
      "Done\n"
     ]
    }
   ],
   "source": [
    "# Using local machine\n",
    "train_path = r'/Users/macbook/CIFAR-10-images/train'\n",
    "test_path = r'/Users/macbook/CIFAR-10-images/test'\n",
    "\n",
    "X_train = []\n",
    "y_train = []\n",
    "X_test = []\n",
    "y_test = []\n",
    "\n",
    "categories = os.listdir(train_path)\n",
    "categories.remove('.DS_Store')\n",
    "print('Categories:',categories)\n",
    "\n",
    "\n",
    "# Using google colab\n",
    "'''\n",
    "from google.colab import drive\n",
    "drive.mount('/content/drive/')\n",
    "\n",
    "train_path = r'/content/drive/MyDrive/Colab Notebooks/CIFAR-10-images/train'\n",
    "test_path = r'/content/drive/MyDrive/Colab Notebooks/CIFAR-10-images/test'\n",
    "\n",
    "X_train = []\n",
    "y_train = []\n",
    "X_test = []\n",
    "y_test = []\n",
    "\n",
    "categories = os.listdir(train_path)\n",
    "print(categories)\n",
    "'''\n",
    "\n",
    "category_count = 0\n",
    "for category in categories:\n",
    "    category_count += 1\n",
    "    print('Reading category:',category_count)\n",
    "    train_category_path = os.path.join(train_path,category)\n",
    "    test_category_path = os.path.join(test_path,category)\n",
    "    train_images = os.listdir(train_category_path)\n",
    "    test_images = os.listdir(test_category_path)\n",
    "    #print(images)\n",
    "    \n",
    "    # Reading Train Data\n",
    "    for image in train_images:\n",
    "        #print(os.path.join(category_path,image))\n",
    "        X_train.append(cv2.imread(os.path.join(train_category_path,image)))\n",
    "        y_train.append(category)\n",
    "        \n",
    "    # Reading Test Data\n",
    "    for image in test_images:\n",
    "        #print(os.path.join(category_path,image))\n",
    "        X_test.append(cv2.imread(os.path.join(test_category_path,image)))\n",
    "        y_test.append(category)\n",
    "        \n",
    "print('Done')"
   ]
  },
  {
   "cell_type": "markdown",
   "id": "ced272d1",
   "metadata": {
    "id": "ced272d1"
   },
   "source": [
    "# Checking Train Data"
   ]
  },
  {
   "cell_type": "code",
   "execution_count": 3,
   "id": "20915ab5",
   "metadata": {
    "colab": {
     "base_uri": "https://localhost:8080/",
     "height": 1000
    },
    "id": "20915ab5",
    "outputId": "7a06a8d7-ac86-448e-e5f8-43393656201c"
   },
   "outputs": [
    {
     "name": "stdout",
     "output_type": "stream",
     "text": [
      "50000\n",
      "50000\n",
      "<class 'numpy.ndarray'>\n",
      "(32, 32, 3)\n",
      "[[[143 149 144]\n",
      "  [222 226 221]\n",
      "  [247 250 248]\n",
      "  ...\n",
      "  [248 255 250]\n",
      "  [248 255 254]\n",
      "  [237 248 245]]\n",
      "\n",
      " [[161 165 160]\n",
      "  [199 203 198]\n",
      "  [244 247 245]\n",
      "  ...\n",
      "  [253 255 252]\n",
      "  [251 255 254]\n",
      "  [250 255 254]]\n",
      "\n",
      " [[172 176 171]\n",
      "  [170 174 169]\n",
      "  [232 235 233]\n",
      "  ...\n",
      "  [253 250 245]\n",
      "  [248 247 243]\n",
      "  [249 250 246]]\n",
      "\n",
      " ...\n",
      "\n",
      " [[194 211 224]\n",
      "  [189 208 221]\n",
      "  [189 208 221]\n",
      "  ...\n",
      "  [ 75  81  80]\n",
      "  [133 141 141]\n",
      "  [213 223 223]]\n",
      "\n",
      " [[191 208 221]\n",
      "  [189 206 219]\n",
      "  [188 207 220]\n",
      "  ...\n",
      "  [188 196 196]\n",
      "  [203 215 215]\n",
      "  [200 214 213]]\n",
      "\n",
      " [[194 210 226]\n",
      "  [192 208 224]\n",
      "  [192 211 226]\n",
      "  ...\n",
      "  [188 196 196]\n",
      "  [208 220 220]\n",
      "  [202 218 217]]]\n",
      "truck\n"
     ]
    },
    {
     "data": {
      "text/plain": [
       "<matplotlib.image.AxesImage at 0x7f9b16e13940>"
      ]
     },
     "execution_count": 3,
     "metadata": {},
     "output_type": "execute_result"
    },
    {
     "data": {
      "image/png": "[encoded data removed]",
      "text/plain": [
       "<Figure size 432x288 with 1 Axes>"
      ]
     },
     "metadata": {
      "needs_background": "light"
     },
     "output_type": "display_data"
    }
   ],
   "source": [
    "print(len(X_train))\n",
    "print(len(y_train))\n",
    "print(type(X_train[10000]))\n",
    "print(X_train[10000].shape)\n",
    "print(X_train[10000])\n",
    "print(y_train[10000])\n",
    "plt.figure()\n",
    "plt.imshow(X_train[10000])"
   ]
  },
  {
   "cell_type": "markdown",
   "id": "302afa19",
   "metadata": {
    "id": "302afa19"
   },
   "source": [
    "# Checking Test Data"
   ]
  },
  {
   "cell_type": "code",
   "execution_count": 4,
   "id": "f3786c6b",
   "metadata": {
    "colab": {
     "base_uri": "https://localhost:8080/",
     "height": 1000
    },
    "id": "f3786c6b",
    "outputId": "297abebd-d728-490f-8dff-7653586cfe6d"
   },
   "outputs": [
    {
     "name": "stdout",
     "output_type": "stream",
     "text": [
      "10000\n",
      "10000\n",
      "<class 'numpy.ndarray'>\n",
      "(32, 32, 3)\n",
      "[[[218 213 214]\n",
      "  [ 92  87  88]\n",
      "  [ 20  16  15]\n",
      "  ...\n",
      "  [247 240 243]\n",
      "  [251 242 245]\n",
      "  [251 243 244]]\n",
      "\n",
      " [[224 222 222]\n",
      "  [159 154 155]\n",
      "  [127 123 122]\n",
      "  ...\n",
      "  [241 234 237]\n",
      "  [245 237 238]\n",
      "  [244 236 237]]\n",
      "\n",
      " [[239 237 237]\n",
      "  [232 227 228]\n",
      "  [235 231 230]\n",
      "  ...\n",
      "  [241 236 238]\n",
      "  [242 236 237]\n",
      "  [241 233 234]]\n",
      "\n",
      " ...\n",
      "\n",
      " [[213 216 220]\n",
      "  [209 212 216]\n",
      "  [196 199 203]\n",
      "  ...\n",
      "  [143 148 151]\n",
      "  [144 149 150]\n",
      "  [201 206 207]]\n",
      "\n",
      " [[208 211 215]\n",
      "  [150 153 157]\n",
      "  [ 99 102 106]\n",
      "  ...\n",
      "  [ 46  53  56]\n",
      "  [ 64  69  70]\n",
      "  [134 139 140]]\n",
      "\n",
      " [[189 192 196]\n",
      "  [ 96  99 103]\n",
      "  [ 37  40  44]\n",
      "  ...\n",
      "  [109 116 119]\n",
      "  [136 141 142]\n",
      "  [185 190 191]]]\n",
      "cat\n",
      "<class 'list'>\n"
     ]
    },
    {
     "data": {
      "image/png": "[encoded data removed]",
      "text/plain": [
       "<Figure size 432x288 with 1 Axes>"
      ]
     },
     "metadata": {
      "needs_background": "light"
     },
     "output_type": "display_data"
    }
   ],
   "source": [
    "print(len(X_test))\n",
    "print(len(y_test))\n",
    "print(type(X_test[100]))\n",
    "print(X_test[100].shape)\n",
    "print(X_test[100])\n",
    "print(y_test[100])\n",
    "plt.figure()\n",
    "plt.imshow(X_test[100])\n",
    "print(type(y_test))"
   ]
  },
  {
   "cell_type": "markdown",
   "id": "74342af0",
   "metadata": {
    "id": "74342af0"
   },
   "source": [
    "# Calculating Manhattan Distances"
   ]
  },
  {
   "cell_type": "code",
   "execution_count": 5,
   "id": "6731c7ec",
   "metadata": {
    "id": "6731c7ec"
   },
   "outputs": [
    {
     "name": "stdout",
     "output_type": "stream",
     "text": [
      "Calculating distance...\n",
      "Completed: 10%\n",
      "Completed: 20%\n",
      "Completed: 30%\n",
      "Completed: 40%\n",
      "Completed: 50%\n",
      "Completed: 60%\n",
      "Completed: 70%\n",
      "Completed: 80%\n",
      "Completed: 90%\n",
      "Completed: 100%\n",
      "Done\n"
     ]
    }
   ],
   "source": [
    "distances = []\n",
    "completed = 0\n",
    "\n",
    "print('Calculating distance...')\n",
    "\n",
    "for test_image in X_test:\n",
    "    manhattan_dist = []\n",
    "    for train_image in X_train:\n",
    "        #print(train_image.flatten())\n",
    "        #manhattan_dist.append(get_manhattan_distance(test_image.flatten(), train_image.flatten()))\n",
    "        manhattan_dist.append(np.sum(abs(test_image.flatten()-train_image.flatten())))\n",
    "    distances.append(manhattan_dist)\n",
    "    completed += 1\n",
    "    if completed%1000 == 0:\n",
    "        print(f'Completed: {int(completed/100)}%')\n",
    "        \n",
    "print('Done')"
   ]
  },
  {
   "cell_type": "markdown",
   "id": "b38ffad3",
   "metadata": {
    "id": "b38ffad3"
   },
   "source": [
    "# Checking Distances"
   ]
  },
  {
   "cell_type": "code",
   "execution_count": 6,
   "id": "bc1a9cb9",
   "metadata": {
    "id": "bc1a9cb9"
   },
   "outputs": [
    {
     "name": "stdout",
     "output_type": "stream",
     "text": [
      "10000\n",
      "50000\n",
      "288275\n"
     ]
    }
   ],
   "source": [
    "print(len(distances))\n",
    "print(len(distances[1]))\n",
    "print(min(distances[1]))"
   ]
  },
  {
   "cell_type": "markdown",
   "id": "b2897512",
   "metadata": {
    "id": "b2897512"
   },
   "source": [
    "# Predicting a Image using KNN (K=1)"
   ]
  },
  {
   "cell_type": "code",
   "execution_count": 7,
   "id": "b92ae5c3",
   "metadata": {
    "id": "b92ae5c3"
   },
   "outputs": [
    {
     "name": "stdout",
     "output_type": "stream",
     "text": [
      "3039\n",
      "288275\n",
      "Predicted: cat\n",
      "Actual: cat\n"
     ]
    }
   ],
   "source": [
    "min_value_index = np.argmin(distances[1])\n",
    "print(min_value_index)\n",
    "print(distances[1][min_value_index])\n",
    "print('Predicted:',y_train[min_value_index])\n",
    "print('Actual:',y_test[1])"
   ]
  },
  {
   "cell_type": "markdown",
   "id": "0f80c5c6",
   "metadata": {
    "id": "0f80c5c6"
   },
   "source": [
    "# Calculating Accuracy in Percentage of KNN (K=1)"
   ]
  },
  {
   "cell_type": "code",
   "execution_count": 8,
   "id": "cbd19b3e",
   "metadata": {
    "id": "cbd19b3e"
   },
   "outputs": [
    {
     "name": "stdout",
     "output_type": "stream",
     "text": [
      "Correct: 2690\n",
      "Wrong 7310\n",
      "Accuracy: 26.900000000000002%\n"
     ]
    }
   ],
   "source": [
    "correct = 0\n",
    "wrong = 0\n",
    "\n",
    "for i,distance in enumerate(distances):\n",
    "    min_value_index = np.argmin(distance)\n",
    "    #print(y_test[i])\n",
    "    if y_test[i] == y_train[min_value_index]:\n",
    "        correct += 1\n",
    "    else:\n",
    "        wrong += 1\n",
    "        \n",
    "print('Correct:',correct)\n",
    "print('Wrong',wrong)\n",
    "accuracy = (correct/len(distances))*100\n",
    "print(f'Accuracy: {accuracy}%')"
   ]
  },
  {
   "cell_type": "markdown",
   "id": "eec1c639",
   "metadata": {
    "id": "eec1c639"
   },
   "source": [
    "# Calculating Accuracies in Percentage of KNN (K=1-20)"
   ]
  },
  {
   "cell_type": "code",
   "execution_count": 9,
   "id": "74634b78",
   "metadata": {
    "id": "74634b78"
   },
   "outputs": [],
   "source": [
    "accuracies = []\n",
    "k_values = range(1,21)\n",
    "\n",
    "for k in k_values:  \n",
    "    correct = 0\n",
    "    wrong = 0\n",
    "    for i,distance in enumerate(distances):\n",
    "        #min_value_index = np.argmin(distance)\n",
    "        sorted_dist = np.argsort(distance)\n",
    "        #print(sorted_dist[:5])\n",
    "        predictions = []\n",
    "        for dist in sorted_dist[:k]:\n",
    "            #print(distance[dist],end=' ')\n",
    "            #print(y_train[dist])\n",
    "            predictions.append(y_train[dist])\n",
    "        #print(y_test[i])\n",
    "        predicted = max(predictions, key=predictions.count)\n",
    "        #print('predictions:',predictions)\n",
    "        #print('Predicted:',predicted)\n",
    "        if predicted == y_test[i]:\n",
    "            correct += 1\n",
    "        else:\n",
    "            wrong += 1\n",
    "        #print(y_test[i])\n",
    "        #print('...')\n",
    "\n",
    "    #print('For k:',k)\n",
    "    #print('Correct:',correct)\n",
    "    #print('Wrong',wrong)\n",
    "    accuracy = (correct/len(distances))*100\n",
    "    accuracies.append(accuracy)\n",
    "    #print(f'Accuracy: {accuracy}%')\n",
    "    #print('~~~~~~~~~~~~~~~~~~~~')"
   ]
  },
  {
   "cell_type": "markdown",
   "id": "36cb7ced",
   "metadata": {
    "id": "36cb7ced"
   },
   "source": [
    "# Ploting Graph of Accuracies in Percentage for K=1-20"
   ]
  },
  {
   "cell_type": "code",
   "execution_count": 10,
   "id": "cfaca965",
   "metadata": {
    "id": "cfaca965"
   },
   "outputs": [
    {
     "data": {
      "image/png": "[encoded data removed]",
      "text/plain": [
       "<Figure size 432x288 with 1 Axes>"
      ]
     },
     "metadata": {
      "needs_background": "light"
     },
     "output_type": "display_data"
    }
   ],
   "source": [
    "plt.figure()\n",
    "plt.plot(k_values,accuracies,'ro-')\n",
    "plt.xlabel('K values')\n",
    "plt.ylabel('Accuracy in Percentage (%)')\n",
    "plt.xticks(k_values)\n",
    "plt.grid(True)\n",
    "plt.show()"
   ]
  },
  {
   "cell_type": "code",
   "execution_count": null,
   "id": "3ef5d660",
   "metadata": {},
   "outputs": [],
   "source": []
  }
 ],
 "metadata": {
  "colab": {
   "collapsed_sections": [],
   "name": "Mid.ipynb",
   "provenance": []
  },
  "kernelspec": {
   "display_name": "Python 3 (ipykernel)",
   "language": "python",
   "name": "python3"
  },
  "language_info": {
   "codemirror_mode": {
    "name": "ipython",
    "version": 3
   },
   "file_extension": ".py",
   "mimetype": "text/x-python",
   "name": "python",
   "nbconvert_exporter": "python",
   "pygments_lexer": "ipython3",
   "version": "3.8.12"
  }
 },
 "nbformat": 4,
 "nbformat_minor": 5
}
