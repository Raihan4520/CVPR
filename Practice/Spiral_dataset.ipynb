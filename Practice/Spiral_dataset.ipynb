{
 "cells": [
  {
   "cell_type": "code",
   "execution_count": 1,
   "id": "2da8b78c",
   "metadata": {},
   "outputs": [
    {
     "data": {
      "image/png": "[encoded data removed]",
      "text/plain": [
       "<Figure size 432x288 with 1 Axes>"
      ]
     },
     "metadata": {
      "needs_background": "light"
     },
     "output_type": "display_data"
    }
   ],
   "source": [
    "import matplotlib.pyplot as plt\n",
    "import math\n",
    "import random\n",
    "import numpy as np\n",
    "\n",
    "np.random.seed(0)\n",
    "\n",
    "X_coordinate = []\n",
    "Y_coordinate = []\n",
    "res = []\n",
    "\n",
    "theta = 0\n",
    "while(theta <= 720):\n",
    "    r = theta\n",
    "    # Red --> 1\n",
    "    for i in range(random.randint(1,3)):\n",
    "        X_coordinate.append((r*math.cos(2*math.pi*theta/360))/10)\n",
    "        Y_coordinate.append((-r*math.sin(2*math.pi*theta/360))/10)\n",
    "        res.append(1)\n",
    "    #Blue --> 0\n",
    "    for i in range(random.randint(1,3)):\n",
    "        X_coordinate.append((-r*math.cos(2*math.pi*theta/360))/10)\n",
    "        Y_coordinate.append((r*math.sin(2*math.pi*theta/360))/10)\n",
    "        res.append(0)\n",
    "    theta+=random.randint(1,10)\n",
    "        \n",
    "for i in range(len(res)):\n",
    "    if res[i] == 1:\n",
    "        plt.plot(X_coordinate[i], Y_coordinate[i], \"ro\")\n",
    "    else:\n",
    "        plt.plot(X_coordinate[i], Y_coordinate[i], \"bo\")\n",
    "        \n",
    "# print(max(X_coordinate))\n",
    "# print(max(Y_coordinate))"
   ]
  },
  {
   "cell_type": "code",
   "execution_count": 2,
   "id": "d03f7211",
   "metadata": {},
   "outputs": [],
   "source": [
    "# X = np.array([ [0,0], [0,1], [1,0], [1,1] ])\n",
    "# Y = np.array([ [0], [1], [1], [0] ])\n",
    "X = np.zeros(shape=(len(res),2))\n",
    "Y = np.zeros(shape=(len(res),1))\n",
    "\n",
    "for i in range(len(res)): \n",
    "    X[i] = [X_coordinate[i],Y_coordinate[i]]\n",
    "    Y[i] = [res[i]]\n",
    "    \n",
    "# X\n",
    "# Y"
   ]
  },
  {
   "cell_type": "code",
   "execution_count": 3,
   "id": "71ce64d8",
   "metadata": {},
   "outputs": [],
   "source": [
    "class NeuralNetwork(object):\n",
    "    def __init__(self):\n",
    "        inputLayerNeurons = 2\n",
    "        hiddenLayerNeurons = 10\n",
    "        outLayerNeurons = 1\n",
    "        \n",
    "        self.learning_rate = 0.001\n",
    "        self.W_HI = np.random.randn(inputLayerNeurons, hiddenLayerNeurons)\n",
    "        self.W_OH = np.random.randn(hiddenLayerNeurons, outLayerNeurons)\n",
    "        \n",
    "    def sigmoid(self, x, der=False):\n",
    "        if der == True:\n",
    "            return x * (1-x)\n",
    "        else:\n",
    "            return 1 / (1 + np.exp(-x))\n",
    "        \n",
    "    def Tanh(self, x, der=False):\n",
    "#         y = (np.exp(2*x) - 1) / (np.exp(2*x) + 1)\n",
    "#         dy=1-y**2\n",
    "        if der == True:\n",
    "            return 1 - x**2\n",
    "        else:\n",
    "            return (np.exp(2*x) - 1) / (np.exp(2*x) + 1)\n",
    "        \n",
    "    def feedForward(self, X):\n",
    "        hidden_input = np.dot(X, self.W_HI)\n",
    "        self.hidden_output = self.Tanh(hidden_input)\n",
    "        \n",
    "        output_input = np.dot(self.hidden_output, self.W_OH)\n",
    "        pred = self.Tanh(output_input)\n",
    "        return pred\n",
    "        \n",
    "    def backPropagation(self, X, Y, pred):\n",
    "        output_error = Y - pred\n",
    "        output_delta = self.learning_rate * output_error * self.Tanh(pred, der=True)\n",
    "        \n",
    "        hidden_error = output_delta.dot(self.W_OH.T)\n",
    "        hidden_delta = self.learning_rate * hidden_error * self.Tanh(self.hidden_output, der=True)\n",
    "        \n",
    "        self.W_HI += X.T.dot(hidden_delta)\n",
    "        self.W_OH += self.hidden_output.T.dot(output_delta)\n",
    "        \n",
    "    def train(self, X, Y):\n",
    "        output = self.feedForward(X)\n",
    "        self.backPropagation(X,Y,output)"
   ]
  },
  {
   "cell_type": "code",
   "execution_count": 4,
   "id": "a0433bc1",
   "metadata": {},
   "outputs": [
    {
     "data": {
      "text/plain": [
       "[<matplotlib.lines.Line2D at 0x7fb4eb601ac0>]"
      ]
     },
     "execution_count": 4,
     "metadata": {},
     "output_type": "execute_result"
    },
    {
     "data": {
      "image/png": "[encoded data removed]",
      "text/plain": [
       "<Figure size 432x288 with 1 Axes>"
      ]
     },
     "metadata": {
      "needs_background": "light"
     },
     "output_type": "display_data"
    }
   ],
   "source": [
    "NN = NeuralNetwork()\n",
    "\n",
    "err = []\n",
    "for i in range(10000):\n",
    "    NN.train(X,Y)\n",
    "    err.append(np.mean(np.square(Y - NN.feedForward(X))))\n",
    "\n",
    "plt.plot(err)"
   ]
  },
  {
   "cell_type": "code",
   "execution_count": 5,
   "id": "c33fe02b",
   "metadata": {},
   "outputs": [],
   "source": [
    "class NeuralNetwork(object):\n",
    "    def __init__(self):\n",
    "        inputLayerNeurons = 2\n",
    "        hiddenLayerNeurons = 10\n",
    "        outLayerNeurons = 1\n",
    "        \n",
    "        self.learning_rate = 0.0000001\n",
    "        self.W_HI = np.random.randn(inputLayerNeurons, hiddenLayerNeurons)\n",
    "        self.W_OH = np.random.randn(hiddenLayerNeurons, outLayerNeurons)\n",
    "        \n",
    "    def sigmoid(self, x, der=False):\n",
    "        if der == True:\n",
    "            return x * (1-x)\n",
    "        else:\n",
    "            return 1 / (1 + np.exp(-x))\n",
    "        \n",
    "    def ReLU(self, x, der=False):\n",
    "        if der == True:\n",
    "            return 1. * (x > 0)\n",
    "        else:\n",
    "            return x * (x > 0)\n",
    "        \n",
    "    def feedForward(self, X):\n",
    "        hidden_input = np.dot(X, self.W_HI)\n",
    "        self.hidden_output = self.ReLU(hidden_input)\n",
    "        \n",
    "        output_input = np.dot(self.hidden_output, self.W_OH)\n",
    "        pred = self.ReLU(output_input)\n",
    "        return pred\n",
    "        \n",
    "    def backPropagation(self, X, Y, pred):\n",
    "        output_error = Y - pred\n",
    "        output_delta = self.learning_rate * output_error * self.ReLU(pred, der=True)\n",
    "        \n",
    "        hidden_error = output_delta.dot(self.W_OH.T)\n",
    "        hidden_delta = self.learning_rate * hidden_error * self.ReLU(self.hidden_output, der=True)\n",
    "        \n",
    "        self.W_HI += X.T.dot(hidden_delta)\n",
    "        self.W_OH += self.hidden_output.T.dot(output_delta)\n",
    "        \n",
    "    def train(self, X, Y):\n",
    "        output = self.feedForward(X)\n",
    "        self.backPropagation(X,Y,output)"
   ]
  },
  {
   "cell_type": "code",
   "execution_count": 6,
   "id": "3aa051ac",
   "metadata": {},
   "outputs": [
    {
     "data": {
      "text/plain": [
       "[<matplotlib.lines.Line2D at 0x7fb4eb5409d0>]"
      ]
     },
     "execution_count": 6,
     "metadata": {},
     "output_type": "execute_result"
    },
    {
     "data": {
      "image/png": "[encoded data removed]",
      "text/plain": [
       "<Figure size 432x288 with 1 Axes>"
      ]
     },
     "metadata": {
      "needs_background": "light"
     },
     "output_type": "display_data"
    }
   ],
   "source": [
    "NN = NeuralNetwork()\n",
    "\n",
    "err = []\n",
    "for i in range(10000):\n",
    "    NN.train(X,Y)\n",
    "    err.append(np.mean(np.square(Y - NN.feedForward(X))))\n",
    "\n",
    "plt.plot(err)"
   ]
  },
  {
   "cell_type": "code",
   "execution_count": null,
   "id": "6346076b",
   "metadata": {},
   "outputs": [],
   "source": []
  }
 ],
 "metadata": {
  "kernelspec": {
   "display_name": "Python 3 (ipykernel)",
   "language": "python",
   "name": "python3"
  },
  "language_info": {
   "codemirror_mode": {
    "name": "ipython",
    "version": 3
   },
   "file_extension": ".py",
   "mimetype": "text/x-python",
   "name": "python",
   "nbconvert_exporter": "python",
   "pygments_lexer": "ipython3",
   "version": "3.8.8"
  }
 },
 "nbformat": 4,
 "nbformat_minor": 5
}
